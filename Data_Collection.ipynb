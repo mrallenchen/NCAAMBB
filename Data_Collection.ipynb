{
 "cells": [
  {
   "cell_type": "code",
   "execution_count": 455,
   "metadata": {},
   "outputs": [],
   "source": [
    "from bs4 import BeautifulSoup\n",
    "import requests\n",
    "from IPython.core.display import display, HTML\n",
    "import numpy as np\n",
    "import re\n",
    "import pickle\n",
    "import pandas as pd\n",
    "import re"
   ]
  },
  {
   "cell_type": "markdown",
   "metadata": {},
   "source": [
    "## Grab names for all NCAA teams"
   ]
  },
  {
   "cell_type": "code",
   "execution_count": 80,
   "metadata": {},
   "outputs": [],
   "source": [
    "url = \"https://www.sports-reference.com/cbb/schools/\"\n",
    "response = requests.get(url)\n",
    "teams_text = response.text\n",
    "team_soup = BeautifulSoup(teams_text, \"lxml\")\n",
    "team_table = team_soup.find('table')\n",
    "team_rows = team_table.find_all('tr')"
   ]
  },
  {
   "cell_type": "code",
   "execution_count": 250,
   "metadata": {},
   "outputs": [],
   "source": [
    "#note that after every 20 teams, there is another header row\n",
    "teams = {}\n",
    "for i in [i for i in range(1,len(team_rows)) if i % 21 != 0]:\n",
    "    items = team_rows[i].find_all('td')\n",
    "    link = items[0].find('a')\n",
    "    school, url = link.text, link['href']\n",
    "    teams[school] = [url] + [i.text for i in items]"
   ]
  },
  {
   "cell_type": "code",
   "execution_count": 370,
   "metadata": {},
   "outputs": [],
   "source": [
    "with open('teams_list.pickle', 'wb') as handle:\n",
    "    pickle.dump(teams, handle, protocol=pickle.HIGHEST_PROTOCOL)"
   ]
  },
  {
   "cell_type": "code",
   "execution_count": 381,
   "metadata": {},
   "outputs": [],
   "source": [
    "#find teams in D1 for particular season\n",
    "season = 2019\n",
    "season_teams = []\n",
    "for team in teams.keys():\n",
    "    if int(teams[team][3]) <= season <= int(teams[team][4]):\n",
    "        season_teams.append(team)\n"
   ]
  },
  {
   "cell_type": "code",
   "execution_count": 560,
   "metadata": {},
   "outputs": [],
   "source": [
    "#create team_lookup for names - url name as key, values include name, formal name, and team url\n",
    "team_lookup = {}\n",
    "for key in season_teams:\n",
    "    sched_url = \"https://www.sports-reference.com\" + teams[key][0] + str(season) +\"-schedule.html\"\n",
    "    sched_response = requests.get(sched_url)\n",
    "    sched_text = sched_response.text\n",
    "    sched_soup = BeautifulSoup(sched_text,\"lxml\")\n",
    "    sched_table = sched_soup.find('table')\n",
    "    simple_name = re.split(\"\\/\",teams[key][0])[3]\n",
    "    sched_rows = sched_table.find_all('tr')\n",
    "    name = sched_table.find('a').text\n",
    "    formal_name = teams[key][1]\n",
    "    team_lookup[simple_name] = [name] + [formal_name] + [teams[key][0]]"
   ]
  },
  {
   "cell_type": "code",
   "execution_count": 564,
   "metadata": {},
   "outputs": [],
   "source": [
    "with open('teams_lookup.pickle', 'wb') as handle:\n",
    "    pickle.dump(team_lookup, handle, protocol=pickle.HIGHEST_PROTOCOL)"
   ]
  },
  {
   "cell_type": "markdown",
   "metadata": {},
   "source": [
    "## GRAB gamelogs for each team for 2019"
   ]
  },
  {
   "cell_type": "code",
   "execution_count": null,
   "metadata": {},
   "outputs": [],
   "source": [
    "gamelog = {}\n",
    "for key in season_teams:\n",
    "    game_url = \"https://www.sports-reference.com\" + teams[key][0] + str(season) +\"-gamelogs.html\"\n",
    "    game_response = requests.get(game_url)\n",
    "    gamelog_text = game_response.text\n",
    "    gamelog_soup = BeautifulSoup(gamelog_text,\"lxml\")\n",
    "    gamelog_table = gamelog_soup.find('table')\n",
    "    gamelog_rows = gamelog_table.find_all('tr')\n",
    "    team = re.split(\"\\/\",teams[key][0])[3]\n",
    "    for i in [i for i in range(2,len(gamelog_rows)) if i % 22 != 0 and i % 23 != 0 ]:\n",
    "        items = gamelog_rows[i].find_all('td')\n",
    "        link = items[0].find('a')\n",
    "        date, url = link.text, link['href']\n",
    "        gamelog[url + team] = [url] + [team] + [i.text for i in items]"
   ]
  },
  {
   "cell_type": "code",
   "execution_count": 384,
   "metadata": {},
   "outputs": [],
   "source": [
    "with open('gamelog.pickle', 'wb') as handle:\n",
    "    pickle.dump(gamelog, handle, protocol=pickle.HIGHEST_PROTOCOL)"
   ]
  },
  {
   "cell_type": "code",
   "execution_count": 427,
   "metadata": {},
   "outputs": [],
   "source": [
    "games = pd.DataFrame.from_dict(gamelog, orient = \"index\")"
   ]
  },
  {
   "cell_type": "code",
   "execution_count": 441,
   "metadata": {},
   "outputs": [],
   "source": [
    "columns = ['url','Team','Date','Court','Opponent','Result','Tm','Opp','FG','FGA','FG%','3P','3PA','3P%','FT','FTA',\n",
    "           'FT%','ORB','TRB','AST','STL','BLK','TOV','PF','blank','FG_O','FGA_O','FG%_O','3P_O','3PA_O','3P%_O','FT_O',\n",
    "           'FTA_O','FT%_O','RB_O','TRB_O','AST_O','STL_O','BLK_O','TOV_O','PF_O']\n",
    "games.columns=columns\n",
    "games.drop(columns='blank');"
   ]
  },
  {
   "cell_type": "code",
   "execution_count": 636,
   "metadata": {},
   "outputs": [],
   "source": [
    "#formatting data frame\n",
    "games['Date'] = pd.to_datetime(games['Date'])\n",
    "num_cols_basic = ['Tm','Opp','FG','FGA','FG%','3P','3PA','3P%','FT','FTA','FT%','ORB','TRB','AST','STL','BLK',\n",
    "                  'TOV','PF','blank','FG_O','FGA_O','FG%_O','3P_O','3PA_O','3P%_O','FT_O','FTA_O','FT%_O','RB_O',\n",
    "                  'TRB_O','AST_O','STL_O','BLK_O','TOV_O','PF_O']\n",
    "for i in num_cols_basic:\n",
    "    games[i] = pd.to_numeric(games[i])"
   ]
  },
  {
   "cell_type": "code",
   "execution_count": 759,
   "metadata": {},
   "outputs": [],
   "source": [
    "#create dictionary for results, which will be used for further calculations\n",
    "r_keys = ['L', 'W', 'L\\xa0(1 OT)', 'L\\xa0(2 OT)', 'W\\xa0(2 OT)','W\\xa0(1 OT)', 'W\\xa0(3 OT)', 'L\\xa0(3 OT)']\n",
    "r_wins = [0,1,0,0,1,1,1,0] #1 for win\n",
    "r_OT = [0,0,1,2,2,1,3,3] #overtimes played\n",
    "r_MP = [40,40,45,50,50,45,55,55] #minutes played\n",
    "\n",
    "results_dict = dict(zip(r_keys,zip(r_wins,r_OT,r_MP)))"
   ]
  },
  {
   "cell_type": "code",
   "execution_count": 767,
   "metadata": {},
   "outputs": [],
   "source": [
    "#adding columns to help with further data manipulation\n",
    "games['Wins'] = [results_dict[x][0] for x in games.Result]\n",
    "games['OT'] = [results_dict[x][1] for x in games.Result]\n",
    "games['MP']= [results_dict[x][2] for x in games.Result]\n",
    "games['PD'] = games['Tm']-games['Opp']"
   ]
  },
  {
   "cell_type": "code",
   "execution_count": 485,
   "metadata": {},
   "outputs": [],
   "source": [
    "with open('advanced_gamelog.pickle', 'wb') as handle:\n",
    "    pickle.dump(advanced_gamelog, handle, protocol=pickle.HIGHEST_PROTOCOL)"
   ]
  },
  {
   "cell_type": "code",
   "execution_count": 487,
   "metadata": {},
   "outputs": [],
   "source": [
    "advanced_games = pd.DataFrame.from_dict(advanced_gamelog, orient = \"index\")"
   ]
  },
  {
   "cell_type": "code",
   "execution_count": 540,
   "metadata": {},
   "outputs": [],
   "source": [
    "columns = ['url','Team','Date','Court','Opponent','Result','Tm','Opp','ORtg','DRtg','Pace','FTr','3PAr','TS%','TRB%',\n",
    "           'AST%','STL%','BLK%','blank1','OeFG%','OTOV%','ORB%','OFT/FGA','blank2','DeFG%','DTOV%','DRB%','DFT/FGA']\n",
    "advanced_games.columns=columns\n",
    "advanced_games.drop(columns=['blank1','blank2']);"
   ]
  },
  {
   "cell_type": "code",
   "execution_count": 640,
   "metadata": {},
   "outputs": [],
   "source": [
    "advanced_games['Date'] = pd.to_datetime(advanced_games['Date'])\n",
    "num_cols_advanced = ['Tm','Opp','ORtg','DRtg','Pace','FTr','3PAr','TS%','TRB%',\n",
    "           'AST%','STL%','BLK%','blank1','OeFG%','OTOV%','ORB%','OFT/FGA','blank2','DeFG%','DTOV%','DRB%','DFT/FGA']\n",
    "for i in num_cols_advanced:\n",
    "    advanced_games[i] = pd.to_numeric(advanced_games[i])"
   ]
  },
  {
   "cell_type": "code",
   "execution_count": 773,
   "metadata": {},
   "outputs": [],
   "source": [
    "#adding columns to help with further data manipulation\n",
    "advanced_games['Wins'] = [results_dict[x][0] for x in advanced_games.Result]\n",
    "advanced_games['OT'] = [results_dict[x][1] for x in advanced_games.Result]\n",
    "advanced_games['MP']= [results_dict[x][2] for x in advanced_games.Result]\n",
    "advanced_games['PD'] = advanced_games['Tm']-advanced_games['Opp']"
   ]
  },
  {
   "cell_type": "code",
   "execution_count": null,
   "metadata": {},
   "outputs": [],
   "source": []
  },
  {
   "cell_type": "markdown",
   "metadata": {},
   "source": [
    "## Preparing clean data file"
   ]
  },
  {
   "cell_type": "code",
   "execution_count": 641,
   "metadata": {},
   "outputs": [],
   "source": [
    "# Final DF\n",
    "df = pd.DataFrame(games['url'])\n",
    "df['Team'] = [team_lookup[x][0] for x in games['Team']]\n",
    "df['Date'] = games['Date']\n",
    "df['Opponent'] = games['Opponent']\n",
    "df['Court'] = games['Court']\n",
    "df['PD'] = games['PD']"
   ]
  },
  {
   "cell_type": "code",
   "execution_count": 738,
   "metadata": {},
   "outputs": [],
   "source": [
    "# GP = Games Played prior to this game\n",
    "df['GP'] = games.groupby('Team')['Team'].transform(lambda x: x.expanding().count()-1)"
   ]
  },
  {
   "cell_type": "code",
   "execution_count": 749,
   "metadata": {},
   "outputs": [],
   "source": [
    "# get prior average stats for each team before the game\n",
    "for i in ['Tm','Opp','FG','FGA','FG%','3P','3PA','3P%','FT','FTA','FT%','ORB','TRB','AST','STL','BLK',\n",
    "                  'TOV','PF','FG_O','FGA_O','FG%_O','3P_O','3PA_O','3P%_O','FT_O','FTA_O','FT%_O','RB_O',\n",
    "                  'TRB_O','AST_O','STL_O','BLK_O','TOV_O','PF_O','Wins','OT','MP']:\n",
    "    df[i] = games.groupby('Team')[i].transform(lambda x: x.expanding().sum()-x)/df['GP']"
   ]
  },
  {
   "cell_type": "code",
   "execution_count": 778,
   "metadata": {},
   "outputs": [],
   "source": [
    "def data_manip(games,columns,team_lookup=team_lookup):\n",
    "    '''\n",
    "    this helps to clean data. update this here\n",
    "    games = gamelog information by team ______\n",
    "    columns = names of columns in the dataframe\n",
    "    team_lookup = to get the right name\n",
    "    \n",
    "    output: dataframe cleaned!\n",
    "\n",
    "    '''\n",
    "    df = pd.DataFrame(games['url'])\n",
    "    df['Team'] = [team_lookup[x][0] for x in games['Team']]\n",
    "    df['Date'] = games['Date']\n",
    "    df['Opponent'] = games['Opponent']\n",
    "    df['Court'] = games['Court']\n",
    "    df['PD'] = games['PD']\n",
    "    df['GP'] = games.groupby('Team')['Team'].transform(lambda x: x.expanding().count()-1)\n",
    "    for i in columns:\n",
    "        df[i] = games.groupby('Team')[i].transform(lambda x: x.expanding().sum()-x)/df['GP']\n",
    "    return df"
   ]
  },
  {
   "cell_type": "code",
   "execution_count": 779,
   "metadata": {},
   "outputs": [],
   "source": [
    "adf = data_manip(advanced_games,num_cols_advanced)"
   ]
  },
  {
   "cell_type": "code",
   "execution_count": 780,
   "metadata": {},
   "outputs": [
    {
     "data": {
      "text/html": [
       "<div>\n",
       "<style scoped>\n",
       "    .dataframe tbody tr th:only-of-type {\n",
       "        vertical-align: middle;\n",
       "    }\n",
       "\n",
       "    .dataframe tbody tr th {\n",
       "        vertical-align: top;\n",
       "    }\n",
       "\n",
       "    .dataframe thead th {\n",
       "        text-align: right;\n",
       "    }\n",
       "</style>\n",
       "<table border=\"1\" class=\"dataframe\">\n",
       "  <thead>\n",
       "    <tr style=\"text-align: right;\">\n",
       "      <th></th>\n",
       "      <th>url</th>\n",
       "      <th>Team</th>\n",
       "      <th>Date</th>\n",
       "      <th>Opponent</th>\n",
       "      <th>Court</th>\n",
       "      <th>PD</th>\n",
       "      <th>GP</th>\n",
       "      <th>Tm</th>\n",
       "      <th>Opp</th>\n",
       "      <th>ORtg</th>\n",
       "      <th>...</th>\n",
       "      <th>blank1</th>\n",
       "      <th>OeFG%</th>\n",
       "      <th>OTOV%</th>\n",
       "      <th>ORB%</th>\n",
       "      <th>OFT/FGA</th>\n",
       "      <th>blank2</th>\n",
       "      <th>DeFG%</th>\n",
       "      <th>DTOV%</th>\n",
       "      <th>DRB%</th>\n",
       "      <th>DFT/FGA</th>\n",
       "    </tr>\n",
       "  </thead>\n",
       "  <tbody>\n",
       "    <tr>\n",
       "      <th>/cbb/boxscores/2018-11-06-19-abilene-christian.htmlabilene-christian</th>\n",
       "      <td>/cbb/boxscores/2018-11-06-19-abilene-christian...</td>\n",
       "      <td>Abilene Christian</td>\n",
       "      <td>2018-11-06</td>\n",
       "      <td>Arlington Baptist</td>\n",
       "      <td></td>\n",
       "      <td>53</td>\n",
       "      <td>0.0</td>\n",
       "      <td>NaN</td>\n",
       "      <td>NaN</td>\n",
       "      <td>NaN</td>\n",
       "      <td>...</td>\n",
       "      <td>NaN</td>\n",
       "      <td>NaN</td>\n",
       "      <td>NaN</td>\n",
       "      <td>NaN</td>\n",
       "      <td>NaN</td>\n",
       "      <td>NaN</td>\n",
       "      <td>NaN</td>\n",
       "      <td>NaN</td>\n",
       "      <td>NaN</td>\n",
       "      <td>NaN</td>\n",
       "    </tr>\n",
       "    <tr>\n",
       "      <th>/cbb/boxscores/2018-11-09-20-abilene-christian.htmlabilene-christian</th>\n",
       "      <td>/cbb/boxscores/2018-11-09-20-abilene-christian...</td>\n",
       "      <td>Abilene Christian</td>\n",
       "      <td>2018-11-09</td>\n",
       "      <td>Arkansas State</td>\n",
       "      <td></td>\n",
       "      <td>21</td>\n",
       "      <td>1.0</td>\n",
       "      <td>107.000000</td>\n",
       "      <td>54.000000</td>\n",
       "      <td>142.700000</td>\n",
       "      <td>...</td>\n",
       "      <td>NaN</td>\n",
       "      <td>0.705000</td>\n",
       "      <td>12.600</td>\n",
       "      <td>50.000000</td>\n",
       "      <td>0.212000</td>\n",
       "      <td>NaN</td>\n",
       "      <td>0.4180</td>\n",
       "      <td>27.700000</td>\n",
       "      <td>86.200000</td>\n",
       "      <td>0.26500</td>\n",
       "    </tr>\n",
       "    <tr>\n",
       "      <th>/cbb/boxscores/2018-11-15-21-denver.htmlabilene-christian</th>\n",
       "      <td>/cbb/boxscores/2018-11-15-21-denver.html</td>\n",
       "      <td>Abilene Christian</td>\n",
       "      <td>2018-11-15</td>\n",
       "      <td>Denver</td>\n",
       "      <td>@</td>\n",
       "      <td>6</td>\n",
       "      <td>2.0</td>\n",
       "      <td>100.500000</td>\n",
       "      <td>63.500000</td>\n",
       "      <td>132.400000</td>\n",
       "      <td>...</td>\n",
       "      <td>NaN</td>\n",
       "      <td>0.670500</td>\n",
       "      <td>16.550</td>\n",
       "      <td>44.650000</td>\n",
       "      <td>0.324000</td>\n",
       "      <td>NaN</td>\n",
       "      <td>0.4550</td>\n",
       "      <td>23.100000</td>\n",
       "      <td>80.600000</td>\n",
       "      <td>0.25950</td>\n",
       "    </tr>\n",
       "    <tr>\n",
       "      <th>/cbb/boxscores/2018-11-22-18-abilene-christian.htmlabilene-christian</th>\n",
       "      <td>/cbb/boxscores/2018-11-22-18-abilene-christian...</td>\n",
       "      <td>Abilene Christian</td>\n",
       "      <td>2018-11-22</td>\n",
       "      <td>Elon</td>\n",
       "      <td>N</td>\n",
       "      <td>16</td>\n",
       "      <td>3.0</td>\n",
       "      <td>89.333333</td>\n",
       "      <td>62.666667</td>\n",
       "      <td>124.866667</td>\n",
       "      <td>...</td>\n",
       "      <td>NaN</td>\n",
       "      <td>0.630667</td>\n",
       "      <td>15.600</td>\n",
       "      <td>35.933333</td>\n",
       "      <td>0.304333</td>\n",
       "      <td>NaN</td>\n",
       "      <td>0.4960</td>\n",
       "      <td>22.433333</td>\n",
       "      <td>77.066667</td>\n",
       "      <td>0.18600</td>\n",
       "    </tr>\n",
       "    <tr>\n",
       "      <th>/cbb/boxscores/2018-11-23-20-pacific.htmlabilene-christian</th>\n",
       "      <td>/cbb/boxscores/2018-11-23-20-pacific.html</td>\n",
       "      <td>Abilene Christian</td>\n",
       "      <td>2018-11-23</td>\n",
       "      <td>Pacific</td>\n",
       "      <td>@</td>\n",
       "      <td>2</td>\n",
       "      <td>4.0</td>\n",
       "      <td>85.000000</td>\n",
       "      <td>61.000000</td>\n",
       "      <td>125.800000</td>\n",
       "      <td>...</td>\n",
       "      <td>NaN</td>\n",
       "      <td>0.627000</td>\n",
       "      <td>14.025</td>\n",
       "      <td>34.350000</td>\n",
       "      <td>0.241750</td>\n",
       "      <td>NaN</td>\n",
       "      <td>0.5065</td>\n",
       "      <td>21.400000</td>\n",
       "      <td>77.600000</td>\n",
       "      <td>0.22075</td>\n",
       "    </tr>\n",
       "  </tbody>\n",
       "</table>\n",
       "<p>5 rows × 29 columns</p>\n",
       "</div>"
      ],
      "text/plain": [
       "                                                                                                  url  \\\n",
       "/cbb/boxscores/2018-11-06-19-abilene-christian....  /cbb/boxscores/2018-11-06-19-abilene-christian...   \n",
       "/cbb/boxscores/2018-11-09-20-abilene-christian....  /cbb/boxscores/2018-11-09-20-abilene-christian...   \n",
       "/cbb/boxscores/2018-11-15-21-denver.htmlabilene...           /cbb/boxscores/2018-11-15-21-denver.html   \n",
       "/cbb/boxscores/2018-11-22-18-abilene-christian....  /cbb/boxscores/2018-11-22-18-abilene-christian...   \n",
       "/cbb/boxscores/2018-11-23-20-pacific.htmlabilen...          /cbb/boxscores/2018-11-23-20-pacific.html   \n",
       "\n",
       "                                                                 Team  \\\n",
       "/cbb/boxscores/2018-11-06-19-abilene-christian....  Abilene Christian   \n",
       "/cbb/boxscores/2018-11-09-20-abilene-christian....  Abilene Christian   \n",
       "/cbb/boxscores/2018-11-15-21-denver.htmlabilene...  Abilene Christian   \n",
       "/cbb/boxscores/2018-11-22-18-abilene-christian....  Abilene Christian   \n",
       "/cbb/boxscores/2018-11-23-20-pacific.htmlabilen...  Abilene Christian   \n",
       "\n",
       "                                                         Date  \\\n",
       "/cbb/boxscores/2018-11-06-19-abilene-christian.... 2018-11-06   \n",
       "/cbb/boxscores/2018-11-09-20-abilene-christian.... 2018-11-09   \n",
       "/cbb/boxscores/2018-11-15-21-denver.htmlabilene... 2018-11-15   \n",
       "/cbb/boxscores/2018-11-22-18-abilene-christian.... 2018-11-22   \n",
       "/cbb/boxscores/2018-11-23-20-pacific.htmlabilen... 2018-11-23   \n",
       "\n",
       "                                                             Opponent Court  \\\n",
       "/cbb/boxscores/2018-11-06-19-abilene-christian....  Arlington Baptist         \n",
       "/cbb/boxscores/2018-11-09-20-abilene-christian....     Arkansas State         \n",
       "/cbb/boxscores/2018-11-15-21-denver.htmlabilene...             Denver     @   \n",
       "/cbb/boxscores/2018-11-22-18-abilene-christian....               Elon     N   \n",
       "/cbb/boxscores/2018-11-23-20-pacific.htmlabilen...            Pacific     @   \n",
       "\n",
       "                                                    PD   GP          Tm  \\\n",
       "/cbb/boxscores/2018-11-06-19-abilene-christian....  53  0.0         NaN   \n",
       "/cbb/boxscores/2018-11-09-20-abilene-christian....  21  1.0  107.000000   \n",
       "/cbb/boxscores/2018-11-15-21-denver.htmlabilene...   6  2.0  100.500000   \n",
       "/cbb/boxscores/2018-11-22-18-abilene-christian....  16  3.0   89.333333   \n",
       "/cbb/boxscores/2018-11-23-20-pacific.htmlabilen...   2  4.0   85.000000   \n",
       "\n",
       "                                                          Opp        ORtg  \\\n",
       "/cbb/boxscores/2018-11-06-19-abilene-christian....        NaN         NaN   \n",
       "/cbb/boxscores/2018-11-09-20-abilene-christian....  54.000000  142.700000   \n",
       "/cbb/boxscores/2018-11-15-21-denver.htmlabilene...  63.500000  132.400000   \n",
       "/cbb/boxscores/2018-11-22-18-abilene-christian....  62.666667  124.866667   \n",
       "/cbb/boxscores/2018-11-23-20-pacific.htmlabilen...  61.000000  125.800000   \n",
       "\n",
       "                                                    ...  blank1     OeFG%  \\\n",
       "/cbb/boxscores/2018-11-06-19-abilene-christian....  ...     NaN       NaN   \n",
       "/cbb/boxscores/2018-11-09-20-abilene-christian....  ...     NaN  0.705000   \n",
       "/cbb/boxscores/2018-11-15-21-denver.htmlabilene...  ...     NaN  0.670500   \n",
       "/cbb/boxscores/2018-11-22-18-abilene-christian....  ...     NaN  0.630667   \n",
       "/cbb/boxscores/2018-11-23-20-pacific.htmlabilen...  ...     NaN  0.627000   \n",
       "\n",
       "                                                     OTOV%       ORB%  \\\n",
       "/cbb/boxscores/2018-11-06-19-abilene-christian....     NaN        NaN   \n",
       "/cbb/boxscores/2018-11-09-20-abilene-christian....  12.600  50.000000   \n",
       "/cbb/boxscores/2018-11-15-21-denver.htmlabilene...  16.550  44.650000   \n",
       "/cbb/boxscores/2018-11-22-18-abilene-christian....  15.600  35.933333   \n",
       "/cbb/boxscores/2018-11-23-20-pacific.htmlabilen...  14.025  34.350000   \n",
       "\n",
       "                                                     OFT/FGA  blank2   DeFG%  \\\n",
       "/cbb/boxscores/2018-11-06-19-abilene-christian....       NaN     NaN     NaN   \n",
       "/cbb/boxscores/2018-11-09-20-abilene-christian....  0.212000     NaN  0.4180   \n",
       "/cbb/boxscores/2018-11-15-21-denver.htmlabilene...  0.324000     NaN  0.4550   \n",
       "/cbb/boxscores/2018-11-22-18-abilene-christian....  0.304333     NaN  0.4960   \n",
       "/cbb/boxscores/2018-11-23-20-pacific.htmlabilen...  0.241750     NaN  0.5065   \n",
       "\n",
       "                                                        DTOV%       DRB%  \\\n",
       "/cbb/boxscores/2018-11-06-19-abilene-christian....        NaN        NaN   \n",
       "/cbb/boxscores/2018-11-09-20-abilene-christian....  27.700000  86.200000   \n",
       "/cbb/boxscores/2018-11-15-21-denver.htmlabilene...  23.100000  80.600000   \n",
       "/cbb/boxscores/2018-11-22-18-abilene-christian....  22.433333  77.066667   \n",
       "/cbb/boxscores/2018-11-23-20-pacific.htmlabilen...  21.400000  77.600000   \n",
       "\n",
       "                                                    DFT/FGA  \n",
       "/cbb/boxscores/2018-11-06-19-abilene-christian....      NaN  \n",
       "/cbb/boxscores/2018-11-09-20-abilene-christian....  0.26500  \n",
       "/cbb/boxscores/2018-11-15-21-denver.htmlabilene...  0.25950  \n",
       "/cbb/boxscores/2018-11-22-18-abilene-christian....  0.18600  \n",
       "/cbb/boxscores/2018-11-23-20-pacific.htmlabilen...  0.22075  \n",
       "\n",
       "[5 rows x 29 columns]"
      ]
     },
     "execution_count": 780,
     "metadata": {},
     "output_type": "execute_result"
    }
   ],
   "source": [
    "adf.head()"
   ]
  },
  {
   "cell_type": "markdown",
   "metadata": {},
   "source": [
    "## GRAB URL FOR ALL GAMES"
   ]
  },
  {
   "cell_type": "markdown",
   "metadata": {},
   "source": [
    "## Grab data from single game - hold off on pulling individual game data for now\n",
    "\n",
    "Input url for each game\n",
    "Output data table"
   ]
  },
  {
   "cell_type": "code",
   "execution_count": 7,
   "metadata": {},
   "outputs": [],
   "source": [
    "url = 'https://www.sports-reference.com/cbb/boxscores/2020-03-11-21-stanford.html'\n",
    "\n",
    "box = requests.get(url)\n",
    "boxscores = box.text\n",
    "soup = BeautifulSoup(boxscores, \"html5lib\")"
   ]
  },
  {
   "cell_type": "code",
   "execution_count": 65,
   "metadata": {},
   "outputs": [],
   "source": [
    "tables = soup.find_all('table')\n",
    "#note this will grab 8 tables (the last 4 will be basic and advanced stats, for each team)"
   ]
  },
  {
   "cell_type": "markdown",
   "metadata": {},
   "source": [
    "Pull Data from class \"scorebox_meta\": Date, Location <- this does not show up in a table"
   ]
  },
  {
   "cell_type": "markdown",
   "metadata": {},
   "source": [
    "Pull Data from table \"line-score\": <- this also does not show up in a table...\n",
    "Output: Away Team, Home Team, Away Score 1H, Away Score 2H, Away Score F, Home Score 1H, Home Score 2h, Home Score F\n",
    "\n",
    "? What about overtimes..."
   ]
  },
  {
   "cell_type": "markdown",
   "metadata": {},
   "source": [
    "## Scratchwork"
   ]
  },
  {
   "cell_type": "code",
   "execution_count": 583,
   "metadata": {},
   "outputs": [],
   "source": [
    "#test case for gamelogs\n",
    "cal_url = \"https://www.sports-reference.com/cbb/schools/california/2019-gamelogs.html\"\n",
    "cal_response = requests.get(cal_url)\n",
    "gamelog_text = cal_response.text\n",
    "gamelog_soup = BeautifulSoup(gamelog_text,\"lxml\")\n",
    "gamelog_table = gamelog_soup.find('table')\n",
    "gamelog_rows = gamelog_table.find_all('tr')\n",
    "#test case continued\n",
    "cal_log = {}\n",
    "team = 'california'\n",
    "for i in [i for i in range(2,len(gamelog_rows)) if i % 22 != 0 and i % 23 != 0 ]:\n",
    "    items = gamelog_rows[i].find_all('td')\n",
    "    link = items[0].find('a')\n",
    "    date, url = link.text, link['href']\n",
    "    cal_log[url + team] = [url] + [team] + [i.text for i in items]"
   ]
  },
  {
   "cell_type": "code",
   "execution_count": null,
   "metadata": {},
   "outputs": [],
   "source": []
  }
 ],
 "metadata": {
  "kernelspec": {
   "display_name": "Python [conda env:metis] *",
   "language": "python",
   "name": "conda-env-metis-py"
  },
  "language_info": {
   "codemirror_mode": {
    "name": "ipython",
    "version": 3
   },
   "file_extension": ".py",
   "mimetype": "text/x-python",
   "name": "python",
   "nbconvert_exporter": "python",
   "pygments_lexer": "ipython3",
   "version": "3.8.3"
  }
 },
 "nbformat": 4,
 "nbformat_minor": 4
}
