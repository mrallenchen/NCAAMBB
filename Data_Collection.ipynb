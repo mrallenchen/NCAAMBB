{
 "cells": [
  {
   "cell_type": "code",
   "execution_count": 455,
   "metadata": {},
   "outputs": [],
   "source": [
    "from bs4 import BeautifulSoup\n",
    "import requests\n",
    "from IPython.core.display import display, HTML\n",
    "import numpy as np\n",
    "import re\n",
    "import pickle\n",
    "import pandas as pd\n",
    "import re"
   ]
  },
  {
   "cell_type": "markdown",
   "metadata": {},
   "source": [
    "## Grab names for all NCAA teams"
   ]
  },
  {
   "cell_type": "code",
   "execution_count": 80,
   "metadata": {},
   "outputs": [],
   "source": [
    "url = \"https://www.sports-reference.com/cbb/schools/\"\n",
    "response = requests.get(url)\n",
    "teams_text = response.text\n",
    "team_soup = BeautifulSoup(teams_text, \"lxml\")\n",
    "team_table = team_soup.find('table')\n",
    "team_rows = team_table.find_all('tr')"
   ]
  },
  {
   "cell_type": "code",
   "execution_count": 250,
   "metadata": {},
   "outputs": [],
   "source": [
    "#note that after every 20 teams, there is another header row\n",
    "teams = {}\n",
    "for i in [i for i in range(1,len(team_rows)) if i % 21 != 0]:\n",
    "    items = team_rows[i].find_all('td')\n",
    "    link = items[0].find('a')\n",
    "    school, url = link.text, link['href']\n",
    "    teams[school] = [url] + [i.text for i in items]"
   ]
  },
  {
   "cell_type": "code",
   "execution_count": 370,
   "metadata": {},
   "outputs": [],
   "source": [
    "with open('teams_list.pickle', 'wb') as handle:\n",
    "    pickle.dump(teams, handle, protocol=pickle.HIGHEST_PROTOCOL)"
   ]
  },
  {
   "cell_type": "code",
   "execution_count": 381,
   "metadata": {},
   "outputs": [],
   "source": [
    "#find teams in D1 for particular season\n",
    "season = 2019\n",
    "season_teams = []\n",
    "for team in teams.keys():\n",
    "    if int(teams[team][3]) <= season <= int(teams[team][4]):\n",
    "        season_teams.append(team)\n"
   ]
  },
  {
   "cell_type": "code",
   "execution_count": 560,
   "metadata": {},
   "outputs": [],
   "source": [
    "#create team_lookup for names - url name as key, values include name, formal name, and team url\n",
    "team_lookup = {}\n",
    "for key in season_teams:\n",
    "    sched_url = \"https://www.sports-reference.com\" + teams[key][0] + str(season) +\"-schedule.html\"\n",
    "    sched_response = requests.get(sched_url)\n",
    "    sched_text = sched_response.text\n",
    "    sched_soup = BeautifulSoup(sched_text,\"lxml\")\n",
    "    sched_table = sched_soup.find('table')\n",
    "    simple_name = re.split(\"\\/\",teams[key][0])[3]\n",
    "    sched_rows = sched_table.find_all('tr')\n",
    "    name = sched_table.find('a').text\n",
    "    formal_name = teams[key][1]\n",
    "    team_lookup[simple_name] = [name] + [formal_name] + [teams[key][0]]"
   ]
  },
  {
   "cell_type": "code",
   "execution_count": 564,
   "metadata": {},
   "outputs": [],
   "source": [
    "with open('teams_lookup.pickle', 'wb') as handle:\n",
    "    pickle.dump(team_lookup, handle, protocol=pickle.HIGHEST_PROTOCOL)"
   ]
  },
  {
   "cell_type": "markdown",
   "metadata": {},
   "source": [
    "## GRAB gamelogs for each team for 2019"
   ]
  },
  {
   "cell_type": "code",
   "execution_count": null,
   "metadata": {},
   "outputs": [],
   "source": [
    "gamelog = {}\n",
    "for key in season_teams:\n",
    "    game_url = \"https://www.sports-reference.com\" + teams[key][0] + str(season) +\"-gamelogs.html\"\n",
    "    game_response = requests.get(game_url)\n",
    "    gamelog_text = game_response.text\n",
    "    gamelog_soup = BeautifulSoup(gamelog_text,\"lxml\")\n",
    "    gamelog_table = gamelog_soup.find('table')\n",
    "    gamelog_rows = gamelog_table.find_all('tr')\n",
    "    team = re.split(\"\\/\",teams[key][0])[3]\n",
    "    for i in [i for i in range(2,len(gamelog_rows)) if i % 22 != 0 and i % 23 != 0 ]:\n",
    "        items = gamelog_rows[i].find_all('td')\n",
    "        link = items[0].find('a')\n",
    "        date, url = link.text, link['href']\n",
    "        gamelog[url + team] = [url] + [team] + [i.text for i in items]"
   ]
  },
  {
   "cell_type": "code",
   "execution_count": 384,
   "metadata": {},
   "outputs": [],
   "source": [
    "with open('gamelog.pickle', 'wb') as handle:\n",
    "    pickle.dump(gamelog, handle, protocol=pickle.HIGHEST_PROTOCOL)"
   ]
  },
  {
   "cell_type": "code",
   "execution_count": 427,
   "metadata": {},
   "outputs": [],
   "source": [
    "games = pd.DataFrame.from_dict(gamelog, orient = \"index\")"
   ]
  },
  {
   "cell_type": "code",
   "execution_count": 441,
   "metadata": {},
   "outputs": [],
   "source": [
    "columns = ['url','Team','Date','Court','Opponent','Result','Tm','Opp','FG','FGA','FG%','3P','3PA','3P%','FT','FTA',\n",
    "           'FT%','ORB','TRB','AST','STL','BLK','TOV','PF','blank','FG_O','FGA_O','FG%_O','3P_O','3PA_O','3P%_O','FT_O',\n",
    "           'FTA_O','FT%_O','RB_O','TRB_O','AST_O','STL_O','BLK_O','TOV_O','PF_O']\n",
    "games.columns=columns\n",
    "games.drop(columns='blank');"
   ]
  },
  {
   "cell_type": "code",
   "execution_count": 636,
   "metadata": {},
   "outputs": [],
   "source": [
    "#formatting data frame\n",
    "games['Date'] = pd.to_datetime(games['Date'])\n",
    "num_cols_basic = ['Tm','Opp','FG','FGA','FG%','3P','3PA','3P%','FT','FTA','FT%','ORB','TRB','AST','STL','BLK',\n",
    "                  'TOV','PF','blank','FG_O','FGA_O','FG%_O','3P_O','3PA_O','3P%_O','FT_O','FTA_O','FT%_O','RB_O',\n",
    "                  'TRB_O','AST_O','STL_O','BLK_O','TOV_O','PF_O']\n",
    "for i in num_cols_basic:\n",
    "    games[i] = pd.to_numeric(games[i])"
   ]
  },
  {
   "cell_type": "code",
   "execution_count": 638,
   "metadata": {},
   "outputs": [],
   "source": []
  },
  {
   "cell_type": "code",
   "execution_count": null,
   "metadata": {},
   "outputs": [],
   "source": []
  },
  {
   "cell_type": "code",
   "execution_count": 484,
   "metadata": {},
   "outputs": [],
   "source": [
    "#Grab advanced stats for each team\n",
    "advanced_gamelog = {}\n",
    "for key in season_teams:\n",
    "    game_url = \"https://www.sports-reference.com\" + teams[key][0] + str(season) +\"-gamelogs-advanced.html\"\n",
    "    game_response = requests.get(game_url)\n",
    "    gamelog_text = game_response.text\n",
    "    gamelog_soup = BeautifulSoup(gamelog_text,\"lxml\")\n",
    "    gamelog_table = gamelog_soup.find('table')\n",
    "    gamelog_rows = gamelog_table.find_all('tr')\n",
    "    team = re.split(\"\\/\",teams[key][0])[3]\n",
    "    for i in [i for i in range(2,len(gamelog_rows)) if i % 22 != 0 and i % 23 != 0 ]:\n",
    "        items = gamelog_rows[i].find_all('td')\n",
    "        link = items[0].find('a')\n",
    "        date, url = link.text, link['href']\n",
    "        advanced_gamelog[url + team] = [url] + [team] + [i.text for i in items]"
   ]
  },
  {
   "cell_type": "code",
   "execution_count": 485,
   "metadata": {},
   "outputs": [],
   "source": [
    "with open('advanced_gamelog.pickle', 'wb') as handle:\n",
    "    pickle.dump(advanced_gamelog, handle, protocol=pickle.HIGHEST_PROTOCOL)"
   ]
  },
  {
   "cell_type": "code",
   "execution_count": 487,
   "metadata": {},
   "outputs": [],
   "source": [
    "advanced_games = pd.DataFrame.from_dict(advanced_gamelog, orient = \"index\")"
   ]
  },
  {
   "cell_type": "code",
   "execution_count": 540,
   "metadata": {},
   "outputs": [],
   "source": [
    "columns = ['url','Team','Date','Court','Opponent','Result','Tm','Opp','ORtg','DRtg','Pace','FTr','3PAr','TS%','TRB%',\n",
    "           'AST%','STL%','BLK%','blank1','OeFG%','OTOV%','ORB%','OFT/FGA','blank2','DeFG%','DTOV%','DRB%','DFT/FGA']\n",
    "advanced_games.columns=columns\n",
    "advanced_games.drop(columns=['blank1','blank2']);"
   ]
  },
  {
   "cell_type": "code",
   "execution_count": 640,
   "metadata": {},
   "outputs": [],
   "source": [
    "advanced_games['Date'] = pd.to_datetime(advanced_games['Date'])\n",
    "num_cols_advanced = ['Tm','Opp','ORtg','DRtg','Pace','FTr','3PAr','TS%','TRB%',\n",
    "           'AST%','STL%','BLK%','blank1','OeFG%','OTOV%','ORB%','OFT/FGA','blank2','DeFG%','DTOV%','DRB%','DFT/FGA']\n",
    "for i in num_cols_advanced:\n",
    "    advanced_games[i] = pd.to_numeric(advanced_games[i])"
   ]
  },
  {
   "cell_type": "code",
   "execution_count": 587,
   "metadata": {},
   "outputs": [
    {
     "data": {
      "text/html": [
       "<div>\n",
       "<style scoped>\n",
       "    .dataframe tbody tr th:only-of-type {\n",
       "        vertical-align: middle;\n",
       "    }\n",
       "\n",
       "    .dataframe tbody tr th {\n",
       "        vertical-align: top;\n",
       "    }\n",
       "\n",
       "    .dataframe thead th {\n",
       "        text-align: right;\n",
       "    }\n",
       "</style>\n",
       "<table border=\"1\" class=\"dataframe\">\n",
       "  <thead>\n",
       "    <tr style=\"text-align: right;\">\n",
       "      <th></th>\n",
       "      <th>url</th>\n",
       "      <th>Team</th>\n",
       "      <th>Date</th>\n",
       "      <th>Court</th>\n",
       "      <th>Opponent</th>\n",
       "      <th>Result</th>\n",
       "      <th>Tm</th>\n",
       "      <th>Opp</th>\n",
       "      <th>ORtg</th>\n",
       "      <th>DRtg</th>\n",
       "      <th>...</th>\n",
       "      <th>blank1</th>\n",
       "      <th>OeFG%</th>\n",
       "      <th>OTOV%</th>\n",
       "      <th>ORB%</th>\n",
       "      <th>OFT/FGA</th>\n",
       "      <th>blank2</th>\n",
       "      <th>DeFG%</th>\n",
       "      <th>DTOV%</th>\n",
       "      <th>DRB%</th>\n",
       "      <th>DFT/FGA</th>\n",
       "    </tr>\n",
       "  </thead>\n",
       "  <tbody>\n",
       "    <tr>\n",
       "      <th>/cbb/boxscores/2018-11-13-22-california.htmlcalifornia</th>\n",
       "      <td>/cbb/boxscores/2018-11-13-22-california.html</td>\n",
       "      <td>california</td>\n",
       "      <td>2018-11-13</td>\n",
       "      <td></td>\n",
       "      <td>Hampton</td>\n",
       "      <td>W</td>\n",
       "      <td>80</td>\n",
       "      <td>66</td>\n",
       "      <td>108.1</td>\n",
       "      <td>89.2</td>\n",
       "      <td>...</td>\n",
       "      <td></td>\n",
       "      <td>.577</td>\n",
       "      <td>13.4</td>\n",
       "      <td>17.2</td>\n",
       "      <td>.385</td>\n",
       "      <td></td>\n",
       "      <td>.331</td>\n",
       "      <td>10.0</td>\n",
       "      <td>70.0</td>\n",
       "      <td>.268</td>\n",
       "    </tr>\n",
       "  </tbody>\n",
       "</table>\n",
       "<p>1 rows × 28 columns</p>\n",
       "</div>"
      ],
      "text/plain": [
       "                                                                                             url  \\\n",
       "/cbb/boxscores/2018-11-13-22-california.htmlcal...  /cbb/boxscores/2018-11-13-22-california.html   \n",
       "\n",
       "                                                          Team        Date  \\\n",
       "/cbb/boxscores/2018-11-13-22-california.htmlcal...  california  2018-11-13   \n",
       "\n",
       "                                                   Court Opponent Result  Tm  \\\n",
       "/cbb/boxscores/2018-11-13-22-california.htmlcal...        Hampton      W  80   \n",
       "\n",
       "                                                   Opp   ORtg  DRtg  ...  \\\n",
       "/cbb/boxscores/2018-11-13-22-california.htmlcal...  66  108.1  89.2  ...   \n",
       "\n",
       "                                                   blank1 OeFG% OTOV%  ORB%  \\\n",
       "/cbb/boxscores/2018-11-13-22-california.htmlcal...         .577  13.4  17.2   \n",
       "\n",
       "                                                   OFT/FGA blank2 DeFG% DTOV%  \\\n",
       "/cbb/boxscores/2018-11-13-22-california.htmlcal...    .385         .331  10.0   \n",
       "\n",
       "                                                    DRB% DFT/FGA  \n",
       "/cbb/boxscores/2018-11-13-22-california.htmlcal...  70.0    .268  \n",
       "\n",
       "[1 rows x 28 columns]"
      ]
     },
     "execution_count": 587,
     "metadata": {},
     "output_type": "execute_result"
    }
   ],
   "source": [
    "advanced_games[advanced_games['Team']=='california'][1:2]"
   ]
  },
  {
   "cell_type": "code",
   "execution_count": 641,
   "metadata": {},
   "outputs": [],
   "source": [
    "# Final DF\n",
    "df = pd.DataFrame(games['url'])\n",
    "df['Team'] = [team_lookup[x][0] for x in games['Team']]\n",
    "df['Date'] = games['Date']\n",
    "df['Opponent'] = games['Opponent']\n",
    "df['Court'] = games['Court']"
   ]
  },
  {
   "cell_type": "code",
   "execution_count": 642,
   "metadata": {},
   "outputs": [
    {
     "data": {
      "text/html": [
       "<div>\n",
       "<style scoped>\n",
       "    .dataframe tbody tr th:only-of-type {\n",
       "        vertical-align: middle;\n",
       "    }\n",
       "\n",
       "    .dataframe tbody tr th {\n",
       "        vertical-align: top;\n",
       "    }\n",
       "\n",
       "    .dataframe thead th {\n",
       "        text-align: right;\n",
       "    }\n",
       "</style>\n",
       "<table border=\"1\" class=\"dataframe\">\n",
       "  <thead>\n",
       "    <tr style=\"text-align: right;\">\n",
       "      <th></th>\n",
       "      <th>url</th>\n",
       "      <th>Team</th>\n",
       "      <th>Date</th>\n",
       "      <th>Court</th>\n",
       "      <th>Opponent</th>\n",
       "      <th>Result</th>\n",
       "      <th>Tm</th>\n",
       "      <th>Opp</th>\n",
       "      <th>FG</th>\n",
       "      <th>FGA</th>\n",
       "      <th>...</th>\n",
       "      <th>FT_O</th>\n",
       "      <th>FTA_O</th>\n",
       "      <th>FT%_O</th>\n",
       "      <th>RB_O</th>\n",
       "      <th>TRB_O</th>\n",
       "      <th>AST_O</th>\n",
       "      <th>STL_O</th>\n",
       "      <th>BLK_O</th>\n",
       "      <th>TOV_O</th>\n",
       "      <th>PF_O</th>\n",
       "    </tr>\n",
       "  </thead>\n",
       "  <tbody>\n",
       "    <tr>\n",
       "      <th>/cbb/boxscores/2018-11-13-22-california.htmlcalifornia</th>\n",
       "      <td>/cbb/boxscores/2018-11-13-22-california.html</td>\n",
       "      <td>california</td>\n",
       "      <td>2018-11-13</td>\n",
       "      <td></td>\n",
       "      <td>Hampton</td>\n",
       "      <td>W</td>\n",
       "      <td>80</td>\n",
       "      <td>66</td>\n",
       "      <td>26</td>\n",
       "      <td>52</td>\n",
       "      <td>...</td>\n",
       "      <td>19</td>\n",
       "      <td>22</td>\n",
       "      <td>0.864</td>\n",
       "      <td>12</td>\n",
       "      <td>36</td>\n",
       "      <td>5</td>\n",
       "      <td>4</td>\n",
       "      <td>1</td>\n",
       "      <td>9</td>\n",
       "      <td>22</td>\n",
       "    </tr>\n",
       "  </tbody>\n",
       "</table>\n",
       "<p>1 rows × 41 columns</p>\n",
       "</div>"
      ],
      "text/plain": [
       "                                                                                             url  \\\n",
       "/cbb/boxscores/2018-11-13-22-california.htmlcal...  /cbb/boxscores/2018-11-13-22-california.html   \n",
       "\n",
       "                                                          Team       Date  \\\n",
       "/cbb/boxscores/2018-11-13-22-california.htmlcal...  california 2018-11-13   \n",
       "\n",
       "                                                   Court Opponent Result  Tm  \\\n",
       "/cbb/boxscores/2018-11-13-22-california.htmlcal...        Hampton      W  80   \n",
       "\n",
       "                                                    Opp  FG  FGA  ...  FT_O  \\\n",
       "/cbb/boxscores/2018-11-13-22-california.htmlcal...   66  26   52  ...    19   \n",
       "\n",
       "                                                    FTA_O  FT%_O  RB_O  TRB_O  \\\n",
       "/cbb/boxscores/2018-11-13-22-california.htmlcal...     22  0.864    12     36   \n",
       "\n",
       "                                                    AST_O  STL_O  BLK_O  \\\n",
       "/cbb/boxscores/2018-11-13-22-california.htmlcal...      5      4      1   \n",
       "\n",
       "                                                    TOV_O  PF_O  \n",
       "/cbb/boxscores/2018-11-13-22-california.htmlcal...      9    22  \n",
       "\n",
       "[1 rows x 41 columns]"
      ]
     },
     "execution_count": 642,
     "metadata": {},
     "output_type": "execute_result"
    }
   ],
   "source": [
    "games[games['Team']=='california'][1:2]"
   ]
  },
  {
   "cell_type": "code",
   "execution_count": 643,
   "metadata": {
    "scrolled": true
   },
   "outputs": [],
   "source": [
    "df['PD'] = games['Tm']-games['Opp']"
   ]
  },
  {
   "cell_type": "code",
   "execution_count": 644,
   "metadata": {},
   "outputs": [
    {
     "data": {
      "text/html": [
       "<div>\n",
       "<style scoped>\n",
       "    .dataframe tbody tr th:only-of-type {\n",
       "        vertical-align: middle;\n",
       "    }\n",
       "\n",
       "    .dataframe tbody tr th {\n",
       "        vertical-align: top;\n",
       "    }\n",
       "\n",
       "    .dataframe thead th {\n",
       "        text-align: right;\n",
       "    }\n",
       "</style>\n",
       "<table border=\"1\" class=\"dataframe\">\n",
       "  <thead>\n",
       "    <tr style=\"text-align: right;\">\n",
       "      <th></th>\n",
       "      <th>url</th>\n",
       "      <th>Team</th>\n",
       "      <th>Date</th>\n",
       "      <th>Opponent</th>\n",
       "      <th>Court</th>\n",
       "      <th>PD</th>\n",
       "    </tr>\n",
       "  </thead>\n",
       "  <tbody>\n",
       "    <tr>\n",
       "      <th>/cbb/boxscores/2018-11-09-23-california.htmlcalifornia</th>\n",
       "      <td>/cbb/boxscores/2018-11-09-23-california.html</td>\n",
       "      <td>California</td>\n",
       "      <td>2018-11-09</td>\n",
       "      <td>Yale</td>\n",
       "      <td>N</td>\n",
       "      <td>-17</td>\n",
       "    </tr>\n",
       "    <tr>\n",
       "      <th>/cbb/boxscores/2018-11-13-22-california.htmlcalifornia</th>\n",
       "      <td>/cbb/boxscores/2018-11-13-22-california.html</td>\n",
       "      <td>California</td>\n",
       "      <td>2018-11-13</td>\n",
       "      <td>Hampton</td>\n",
       "      <td></td>\n",
       "      <td>14</td>\n",
       "    </tr>\n",
       "    <tr>\n",
       "      <th>/cbb/boxscores/2018-11-19-19-california.htmlcalifornia</th>\n",
       "      <td>/cbb/boxscores/2018-11-19-19-california.html</td>\n",
       "      <td>California</td>\n",
       "      <td>2018-11-19</td>\n",
       "      <td>St. John's (NY)</td>\n",
       "      <td>N</td>\n",
       "      <td>-3</td>\n",
       "    </tr>\n",
       "    <tr>\n",
       "      <th>/cbb/boxscores/2018-11-20-17-temple.htmlcalifornia</th>\n",
       "      <td>/cbb/boxscores/2018-11-20-17-temple.html</td>\n",
       "      <td>California</td>\n",
       "      <td>2018-11-20</td>\n",
       "      <td>Temple</td>\n",
       "      <td>N</td>\n",
       "      <td>-17</td>\n",
       "    </tr>\n",
       "    <tr>\n",
       "      <th>/cbb/boxscores/2018-11-26-21-california.htmlcalifornia</th>\n",
       "      <td>/cbb/boxscores/2018-11-26-21-california.html</td>\n",
       "      <td>California</td>\n",
       "      <td>2018-11-26</td>\n",
       "      <td>Santa Clara</td>\n",
       "      <td></td>\n",
       "      <td>12</td>\n",
       "    </tr>\n",
       "  </tbody>\n",
       "</table>\n",
       "</div>"
      ],
      "text/plain": [
       "                                                                                             url  \\\n",
       "/cbb/boxscores/2018-11-09-23-california.htmlcal...  /cbb/boxscores/2018-11-09-23-california.html   \n",
       "/cbb/boxscores/2018-11-13-22-california.htmlcal...  /cbb/boxscores/2018-11-13-22-california.html   \n",
       "/cbb/boxscores/2018-11-19-19-california.htmlcal...  /cbb/boxscores/2018-11-19-19-california.html   \n",
       "/cbb/boxscores/2018-11-20-17-temple.htmlcalifornia      /cbb/boxscores/2018-11-20-17-temple.html   \n",
       "/cbb/boxscores/2018-11-26-21-california.htmlcal...  /cbb/boxscores/2018-11-26-21-california.html   \n",
       "\n",
       "                                                          Team       Date  \\\n",
       "/cbb/boxscores/2018-11-09-23-california.htmlcal...  California 2018-11-09   \n",
       "/cbb/boxscores/2018-11-13-22-california.htmlcal...  California 2018-11-13   \n",
       "/cbb/boxscores/2018-11-19-19-california.htmlcal...  California 2018-11-19   \n",
       "/cbb/boxscores/2018-11-20-17-temple.htmlcalifornia  California 2018-11-20   \n",
       "/cbb/boxscores/2018-11-26-21-california.htmlcal...  California 2018-11-26   \n",
       "\n",
       "                                                           Opponent Court  PD  \n",
       "/cbb/boxscores/2018-11-09-23-california.htmlcal...             Yale     N -17  \n",
       "/cbb/boxscores/2018-11-13-22-california.htmlcal...          Hampton        14  \n",
       "/cbb/boxscores/2018-11-19-19-california.htmlcal...  St. John's (NY)     N  -3  \n",
       "/cbb/boxscores/2018-11-20-17-temple.htmlcalifornia           Temple     N -17  \n",
       "/cbb/boxscores/2018-11-26-21-california.htmlcal...      Santa Clara        12  "
      ]
     },
     "execution_count": 644,
     "metadata": {},
     "output_type": "execute_result"
    }
   ],
   "source": [
    "df.head()"
   ]
  },
  {
   "cell_type": "code",
   "execution_count": 620,
   "metadata": {},
   "outputs": [
    {
     "data": {
      "text/plain": [
       "array(['N', '', '@'], dtype=object)"
      ]
     },
     "execution_count": 620,
     "metadata": {},
     "output_type": "execute_result"
    }
   ],
   "source": [
    "games.Court.unique()"
   ]
  },
  {
   "cell_type": "markdown",
   "metadata": {},
   "source": [
    "## GRAB URL FOR ALL GAMES"
   ]
  },
  {
   "cell_type": "markdown",
   "metadata": {},
   "source": [
    "## Grab data from single game - hold off on pulling individual game data for now\n",
    "\n",
    "Input url for each game\n",
    "Output data table"
   ]
  },
  {
   "cell_type": "code",
   "execution_count": 7,
   "metadata": {},
   "outputs": [],
   "source": [
    "url = 'https://www.sports-reference.com/cbb/boxscores/2020-03-11-21-stanford.html'\n",
    "\n",
    "box = requests.get(url)\n",
    "boxscores = box.text\n",
    "soup = BeautifulSoup(boxscores, \"html5lib\")"
   ]
  },
  {
   "cell_type": "code",
   "execution_count": 65,
   "metadata": {},
   "outputs": [],
   "source": [
    "tables = soup.find_all('table')\n",
    "#note this will grab 8 tables (the last 4 will be basic and advanced stats, for each team)"
   ]
  },
  {
   "cell_type": "markdown",
   "metadata": {},
   "source": [
    "Pull Data from class \"scorebox_meta\": Date, Location <- this does not show up in a table"
   ]
  },
  {
   "cell_type": "markdown",
   "metadata": {},
   "source": [
    "Pull Data from table \"line-score\": <- this also does not show up in a table...\n",
    "Output: Away Team, Home Team, Away Score 1H, Away Score 2H, Away Score F, Home Score 1H, Home Score 2h, Home Score F\n",
    "\n",
    "? What about overtimes..."
   ]
  },
  {
   "cell_type": "markdown",
   "metadata": {},
   "source": [
    "## Scratchwork"
   ]
  },
  {
   "cell_type": "code",
   "execution_count": 583,
   "metadata": {},
   "outputs": [],
   "source": [
    "#test case for gamelogs\n",
    "cal_url = \"https://www.sports-reference.com/cbb/schools/california/2019-gamelogs.html\"\n",
    "cal_response = requests.get(cal_url)\n",
    "gamelog_text = cal_response.text\n",
    "gamelog_soup = BeautifulSoup(gamelog_text,\"lxml\")\n",
    "gamelog_table = gamelog_soup.find('table')\n",
    "gamelog_rows = gamelog_table.find_all('tr')\n",
    "#test case continued\n",
    "cal_log = {}\n",
    "team = 'california'\n",
    "for i in [i for i in range(2,len(gamelog_rows)) if i % 22 != 0 and i % 23 != 0 ]:\n",
    "    items = gamelog_rows[i].find_all('td')\n",
    "    link = items[0].find('a')\n",
    "    date, url = link.text, link['href']\n",
    "    cal_log[url + team] = [url] + [team] + [i.text for i in items]"
   ]
  },
  {
   "cell_type": "code",
   "execution_count": null,
   "metadata": {},
   "outputs": [],
   "source": []
  }
 ],
 "metadata": {
  "kernelspec": {
   "display_name": "Python [conda env:metis] *",
   "language": "python",
   "name": "conda-env-metis-py"
  },
  "language_info": {
   "codemirror_mode": {
    "name": "ipython",
    "version": 3
   },
   "file_extension": ".py",
   "mimetype": "text/x-python",
   "name": "python",
   "nbconvert_exporter": "python",
   "pygments_lexer": "ipython3",
   "version": "3.8.3"
  }
 },
 "nbformat": 4,
 "nbformat_minor": 4
}
