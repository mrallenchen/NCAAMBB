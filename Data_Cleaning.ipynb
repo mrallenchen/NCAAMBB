{
 "cells": [
  {
   "cell_type": "code",
   "execution_count": 2,
   "metadata": {},
   "outputs": [],
   "source": [
    "from bs4 import BeautifulSoup\n",
    "import requests\n",
    "from IPython.core.display import display, HTML\n",
    "import numpy as np\n",
    "import re\n",
    "import pickle\n",
    "import pandas as pd\n",
    "import re\n",
    "import matplotlib.pyplot as plt\n",
    "from sklearn import preprocessing"
   ]
  },
  {
   "cell_type": "code",
   "execution_count": 25,
   "metadata": {},
   "outputs": [],
   "source": [
    "#create dictionary for results, which will be used for further calculations\n",
    "r_keys = ['L', 'W', 'L\\xa0(1 OT)', 'L\\xa0(2 OT)', 'W\\xa0(2 OT)','W\\xa0(1 OT)', 'W\\xa0(3 OT)', 'L\\xa0(3 OT)', 'W\\xa0(4 OT)', 'L\\xa0(4 OT)']\n",
    "r_wins = [0,1,0,0,1,1,1,0,1,0] #1 for win\n",
    "r_OT = [0,0,1,2,2,1,3,3,4,4] #overtimes played\n",
    "r_MP = [40,40,45,50,50,45,55,55,60,60] #minutes played\n",
    "\n",
    "results_dict = dict(zip(r_keys,zip(r_wins,r_OT,r_MP)))"
   ]
  },
  {
   "cell_type": "markdown",
   "metadata": {},
   "source": [
    "# Data Cleaning and Feature Engineering"
   ]
  },
  {
   "cell_type": "markdown",
   "metadata": {},
   "source": [
    "## Data Cleaning"
   ]
  },
  {
   "cell_type": "code",
   "execution_count": null,
   "metadata": {},
   "outputs": [],
   "source": [
    "team_lookup = pickle.load(open('teams_lookup.pickle', \"rb\" ))"
   ]
  },
  {
   "cell_type": "code",
   "execution_count": 3,
   "metadata": {},
   "outputs": [],
   "source": [
    "#column names for dataframes\n",
    "combo_col_w_blank = ['url','Team','Date','Court','Opponent','Result','Tm','Opp','FG','FGA','FG%','3P','3PA','3P%','FT','FTA',\n",
    "           'FT%','ORB','TRB','AST','STL','BLK','TOV','PF','blank','FG_O','FGA_O','FG%_O','3P_O','3PA_O','3P%_O','FT_O',\n",
    "           'FTA_O','FT%_O','ORB_O','TRB_O','AST_O','STL_O','BLK_O','TOV_O','PF_O','url2','Team2','Date2','Court2','Opponent2','Result2','Tm2','Opp2','ORtg','DRtg','Pace','FTr','3PAr','TS%','TRB%',\n",
    "           'AST%','STL%','BLK%','blank1','OeFG%','OTOV%','ORB%','OFT/FGA','blank2','DeFG%','DTOV%','DRB%','DFT/FGA']\n",
    "num_cols = ['Tm','Opp','FG','FGA','FG%','3P','3PA','3P%','FT','FTA',\n",
    "           'FT%','ORB','TRB','AST','STL','BLK','TOV','PF','FG_O','FGA_O','FG%_O','3P_O','3PA_O','3P%_O','FT_O',\n",
    "           'FTA_O','FT%_O','ORB_O','TRB_O','AST_O','STL_O','BLK_O','TOV_O','PF_O','ORtg','DRtg','Pace','FTr','3PAr','TS%','TRB%',\n",
    "           'AST%','STL%','BLK%','OeFG%','OTOV%','ORB%','OFT/FGA','DeFG%','DTOV%','DRB%','DFT/FGA']"
   ]
  },
  {
   "cell_type": "code",
   "execution_count": 18,
   "metadata": {},
   "outputs": [],
   "source": [
    "def clean_gamelog(combo_log, col_names_wb = combo_col_w_blank,\n",
    "                  col_names = num_cols):\n",
    "    '''\n",
    "    Takes in gamelog and cleans the data\n",
    "    input: gamelog as dataframe and stat_type. stat_type can be basic or advanced\n",
    "    output: dataframe with clean gamelog\n",
    "    '''\n",
    "    games = pd.DataFrame.from_dict(combo_log, orient = \"index\")\n",
    "    games.columns = col_names_wb\n",
    "    games['Date'] = pd.to_datetime(games['Date'])\n",
    "    games = games.drop(columns=['blank','url2','Team2','Date2','Court2','Opponent2','Result2','Tm2','Opp2','blank1','blank2'])\n",
    "    for i in col_names:\n",
    "        games[i] = pd.to_numeric(games[i])\n",
    "    return games"
   ]
  },
  {
   "cell_type": "code",
   "execution_count": 23,
   "metadata": {},
   "outputs": [],
   "source": [
    "#adding columns to help with further data manipulation\n",
    "def helper_columns(combo_log,team_lookup):\n",
    "    '''\n",
    "    this helps to clean data. update this here\n",
    "    games = gamelog information by team ______\n",
    "    columns = names of columns in the dataframe\n",
    "    team_lookup = to get the right name\n",
    "    \n",
    "    output: dataframe cleaned!\n",
    "    with columns we want\n",
    "    \n",
    "    '''\n",
    "    hot_court = pd.get_dummies(combo_log.Court)\n",
    "    combo_log['Home'],combo_log['Away'] = hot_court[\"\"],hot_court[\"@\"]\n",
    "    combo_log['Wins'] = [results_dict[x][0] for x in combo_log.Result]\n",
    "    combo_log['OT'] = [results_dict[x][1] for x in combo_log.Result]\n",
    "    combo_log['MP']= [results_dict[x][2] for x in combo_log.Result]\n",
    "    return combo_log"
   ]
  },
  {
   "cell_type": "code",
   "execution_count": 8,
   "metadata": {},
   "outputs": [],
   "source": [
    "def D1_only(combo_log, team_lookup):\n",
    "    '''\n",
    "    Removes teams who are not in D1 \n",
    "    \n",
    "    '''\n",
    "    #create lookup for D1 feature gen\n",
    "    #D1 = indicate if opponent is in Division 1 or not (from the data collection, only D1 teams included for gamelog but they sometimes play non-D1 schools)\n",
    "\n",
    "    team_df = pd.DataFrame.from_dict(team_lookup, orient = 'index')\n",
    "    D1 = dict(zip(team_df.loc[:,0],np.repeat(1,len(team_df.loc[:,0]))))\n",
    "\n",
    "    #removing all non-D1 games\n",
    "    combo_log['D1'] = [D1.get(x) or 0 for x in combo_log['Opponent']]\n",
    "    combo_log = combo_log[combo_log.D1 == 1]\n",
    "    \n",
    "    return combo_log"
   ]
  },
  {
   "cell_type": "markdown",
   "metadata": {},
   "source": [
    "## Additional columns"
   ]
  },
  {
   "cell_type": "code",
   "execution_count": 9,
   "metadata": {},
   "outputs": [],
   "source": [
    "#calculate various spreads\n",
    "\n",
    "def calc_spreads(df):\n",
    "    df['P_S'] = df.eval('Tm - Opp')\n",
    "    df['FG_S'] = df.eval('FG - FG_O')\n",
    "    df['FGA_S'] = df.eval('FGA - FGA_O')\n",
    "    df['FG%_S'] = df['FG%'] - df['FG%_O']\n",
    "    df['3P_S'] = df['3P'] - df['3P_O']\n",
    "    df['3PA_S'] = df['3PA'] - df['3PA_O']\n",
    "    df['3P%_S'] = df['3P%'] - df['3P%_O']\n",
    "    df['FT_S'] = df.eval('FT - FT_O')\n",
    "    df['FTA_S'] = df.eval('FTA - FTA_O')\n",
    "    df['FT%_S'] = df['FT%'] - df['FT%_O']\n",
    "    df['TRB_S'] = df.eval('TRB- TRB_O')\n",
    "    df['AST_S'] = df.eval('AST - AST_O')\n",
    "    df['STL_S'] = df.eval('STL - STL_O')\n",
    "    df['BLK_S'] = df.eval('BLK - BLK_O')\n",
    "    df['TOV_S'] = df.eval('TOV - TOV_O')\n",
    "    df['PF_S'] = df.eval('PF - PF_O')\n",
    "    df['FTr_S'] = df.eval('FTr - FT_O/FGA_O') \n",
    "    df['3PAr_S'] = df['3PA']/df['FG'] - df['3PA_O']/df['FG_O']\n",
    "    df['TS%_S'] = df['TS%'] - df.eval('Opp/(2*(FGA_O+0.44*FTA_O))')\n",
    "    df['TRB%_S'] = 2*df['TRB%'] - 1\n",
    "    df['AST%_S'] = df.eval('(AST - AST_O)/Pace')\n",
    "    df['STL%_S'] = df.eval('(STL - STL_O)/Pace')\n",
    "    df['BLK%_S'] = df.eval('(BLK - BLK_O)/Pace')\n",
    "    return df"
   ]
  },
  {
   "cell_type": "markdown",
   "metadata": {},
   "source": [
    "## Preparing clean data file"
   ]
  },
  {
   "cell_type": "code",
   "execution_count": 10,
   "metadata": {},
   "outputs": [],
   "source": [
    "def agg_df(games):\n",
    "    '''\n",
    "    This will compute the running stats for teams, with season-to-date info prior to each game\n",
    "    '''\n",
    "    df = pd.DataFrame(games['url'])\n",
    "    df['Team'] = [team_lookup[x][0] for x in games['Team']]\n",
    "    df['Date'] = games['Date']\n",
    "    df['Opponent'] = games['Opponent']\n",
    "    df['Spread'] = games['P_S']\n",
    "    df['Win_Loss'] = games['Wins']\n",
    "    df['Home'] = games['Home']\n",
    "    df['Away'] = games['Away']\n",
    "    \n",
    "    # GP = Games Played prior to this game\n",
    "    df['GP'] = games.groupby('Team')['Team'].transform(lambda x: x.expanding().count()-1)\n",
    "    # get prior average stats for each team before the game\n",
    "    for i in ['Wins','Tm', 'Opp', 'FG',\n",
    "       'FGA', 'FG%', '3P', '3PA', '3P%', 'FT', 'FTA', 'FT%', 'ORB', 'TRB',\n",
    "       'AST', 'STL', 'BLK', 'TOV', 'PF', 'ORtg', 'DRtg', 'Pace', 'FTr',\n",
    "       '3PAr', 'TS%', 'TRB%', 'AST%', 'STL%', 'BLK%', 'OeFG%', 'OTOV%', 'ORB%',\n",
    "       'OFT/FGA', 'DeFG%', 'DTOV%', 'DRB%', 'DFT/FGA','P_S', 'FG_S', 'FGA_S', 'FG%_S', '3P_S', '3PA_S',\n",
    "       '3P%_S', 'FT_S', 'FTA_S', 'FT%_S', 'TRB_S', 'AST_S', 'STL_S', 'BLK_S','TOV_S', 'PF_S', 'FTr_S', '3PAr_S', 'TS%_S', 'TRB%_S', 'AST%_S',\n",
    "       'STL%_S', 'BLK%_S']:\n",
    "        df[i] = games.groupby('Team')[i].transform(lambda x: x.expanding().sum()-x)/df['GP']\n",
    "    return df"
   ]
  },
  {
   "cell_type": "markdown",
   "metadata": {},
   "source": [
    "## Append (vs) Opponent Stats "
   ]
  },
  {
   "cell_type": "code",
   "execution_count": 11,
   "metadata": {},
   "outputs": [],
   "source": [
    "def vs_df(df):\n",
    "    '''\n",
    "    This will compute the running stats for teams, with season-to-date info prior to each game\n",
    "    '''\n",
    "    # GP = Games Played prior to this game\n",
    "    winners = df[df.Win_Loss == 1]\n",
    "    losers = df[df.Win_Loss == 0]\n",
    "    \n",
    "    winner_merge = pd.merge(winners, losers, left_on='url',right_on='url',how='outer',suffixes=('','_vs'))\n",
    "    loser_merge = pd.merge(losers, winners, left_on='url',right_on='url',how='outer',suffixes=('','_vs'))\n",
    "    final = pd.concat([winner_merge,loser_merge])\n",
    "    return final"
   ]
  },
  {
   "cell_type": "code",
   "execution_count": 41,
   "metadata": {},
   "outputs": [],
   "source": [
    "def remove_dups(df):\n",
    "    '''\n",
    "    remove the second instance of each game, where the teams are just flipped\n",
    "    \n",
    "    '''\n",
    "    df_urlsort = df.sort_values('url')\n",
    "    \n",
    "    total = len(df_urlsort)\n",
    "    unique = len(df_urlsort.url.unique())\n",
    "    check = (total/unique == 2) \n",
    "    print(f'total games: {total} unique games: {unique} check: {check}')\n",
    "    \n",
    "    df_final = df_urlsort.iloc[range(0,len(df_urlsort),2),]\n",
    "    total = len(df_final)\n",
    "    unique = len(df_final.url.unique())\n",
    "    check = (total == unique) \n",
    "    print(f'games kept: {total} unique games: {unique} check: {check}')\n",
    "    \n",
    "    return df_final"
   ]
  },
  {
   "cell_type": "code",
   "execution_count": 29,
   "metadata": {},
   "outputs": [
    {
     "name": "stdout",
     "output_type": "stream",
     "text": [
      "total games: 11016 unique games: 5508 check: True\n",
      "games kept: 5508 unique games: 5508 check: True\n",
      "total games: 10998 unique games: 5499 check: True\n",
      "games kept: 5499 unique games: 5499 check: True\n",
      "total games: 11032 unique games: 5516 check: True\n",
      "games kept: 5516 unique games: 5516 check: True\n",
      "total games: 11070 unique games: 5535 check: True\n",
      "games kept: 5535 unique games: 5535 check: True\n",
      "total games: 11078 unique games: 5539 check: True\n",
      "games kept: 5539 unique games: 5539 check: True\n",
      "total games: 11206 unique games: 5603 check: True\n",
      "games kept: 5603 unique games: 5603 check: True\n"
     ]
    }
   ],
   "source": [
    "my_seasons = [2014,2015,2016,2017,2018,2019]\n",
    "for i in my_seasons:\n",
    "    team_lookup = pickle.load(open(f'team_lookup_{i}.pickle', \"rb\"))\n",
    "    combo_log = pickle.load(open(f'combo_log_{i}.pickle', \"rb\"))\n",
    "    combo_log = clean_gamelog(combo_log)\n",
    "    combo_log = helper_columns(combo_log,team_lookup)\n",
    "    combo_log = D1_only(combo_log, team_lookup) #removes non-D1 opponents\n",
    "    combo_log = calc_spreads(combo_log) #calculates the spreads between team and opponent for each game\n",
    "    with open(f'clean_combo_{i}.pickle', 'wb') as handle:\n",
    "        pickle.dump(combo_log, handle, protocol=pickle.HIGHEST_PROTOCOL)\n",
    "    df = agg_df(combo_log) #calculates running season to date info for each game\n",
    "    df = vs_df(df) #adds opponent info\n",
    "    df = remove_dups(df)\n",
    "    with open(f'final_{i}.pickle', 'wb') as handle:\n",
    "        pickle.dump(df, handle, protocol=pickle.HIGHEST_PROTOCOL)    "
   ]
  },
  {
   "cell_type": "code",
   "execution_count": 42,
   "metadata": {},
   "outputs": [
    {
     "name": "stdout",
     "output_type": "stream",
     "text": [
      "total games: 11016 unique games: 5508 check: True\n",
      "games kept: 5508 unique games: 5508 check: True\n",
      "total games: 10998 unique games: 5499 check: True\n",
      "games kept: 5499 unique games: 5499 check: True\n",
      "total games: 11032 unique games: 5516 check: True\n",
      "games kept: 5516 unique games: 5516 check: True\n",
      "total games: 11070 unique games: 5535 check: True\n",
      "games kept: 5535 unique games: 5535 check: True\n",
      "total games: 11078 unique games: 5539 check: True\n",
      "games kept: 5539 unique games: 5539 check: True\n",
      "total games: 11206 unique games: 5603 check: True\n",
      "games kept: 5603 unique games: 5603 check: True\n"
     ]
    }
   ],
   "source": [
    "my_seasons = [2014,2015,2016,2017,2018,2019]\n",
    "for i in my_seasons:\n",
    "    clean_combo_log = pickle.load(open(f'clean_combo_{i}.pickle', \"rb\"))\n",
    "    df = agg_df(clean_combo_log) #calculates running season to date info for each game\n",
    "    df = vs_df(df) #adds opponent info\n",
    "    df = remove_dups(df)\n",
    "    with open(f'final_{i}.pickle', 'wb') as handle:\n",
    "        pickle.dump(df, handle, protocol=pickle.HIGHEST_PROTOCOL)    \n"
   ]
  }
 ],
 "metadata": {
  "kernelspec": {
   "display_name": "Python [conda env:metis] *",
   "language": "python",
   "name": "conda-env-metis-py"
  },
  "language_info": {
   "codemirror_mode": {
    "name": "ipython",
    "version": 3
   },
   "file_extension": ".py",
   "mimetype": "text/x-python",
   "name": "python",
   "nbconvert_exporter": "python",
   "pygments_lexer": "ipython3",
   "version": "3.8.3"
  }
 },
 "nbformat": 4,
 "nbformat_minor": 4
}
