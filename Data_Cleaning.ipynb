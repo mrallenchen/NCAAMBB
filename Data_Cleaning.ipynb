{
 "cells": [
  {
   "cell_type": "code",
   "execution_count": 2,
   "metadata": {},
   "outputs": [],
   "source": [
    "from bs4 import BeautifulSoup\n",
    "import requests\n",
    "from IPython.core.display import display, HTML\n",
    "import numpy as np\n",
    "import re\n",
    "import pickle\n",
    "import pandas as pd\n",
    "import re"
   ]
  },
  {
   "cell_type": "markdown",
   "metadata": {},
   "source": [
    "# Data Cleaning and Feature Engineering"
   ]
  },
  {
   "cell_type": "code",
   "execution_count": 3,
   "metadata": {},
   "outputs": [],
   "source": [
    "team_lookup = pickle.load(open('teams_lookup.pickle', \"rb\" ))"
   ]
  },
  {
   "cell_type": "code",
   "execution_count": null,
   "metadata": {},
   "outputs": [],
   "source": [
    "gamelog = pickle.load(open('gamelog.pickle', \"rb\" ))"
   ]
  },
  {
   "cell_type": "code",
   "execution_count": null,
   "metadata": {},
   "outputs": [],
   "source": [
    "games = pd.DataFrame.from_dict(gamelog, orient = \"index\")\n",
    "columns = ['url','Team','Date','Court','Opponent','Result','Tm','Opp','FG','FGA','FG%','3P','3PA','3P%','FT','FTA',\n",
    "           'FT%','ORB','TRB','AST','STL','BLK','TOV','PF','blank','FG_O','FGA_O','FG%_O','3P_O','3PA_O','3P%_O','FT_O',\n",
    "           'FTA_O','FT%_O','RB_O','TRB_O','AST_O','STL_O','BLK_O','TOV_O','PF_O']\n",
    "games.columns=columns\n",
    "games.drop(columns='blank');"
   ]
  },
  {
   "cell_type": "code",
   "execution_count": null,
   "metadata": {},
   "outputs": [],
   "source": [
    "#formatting data frame\n",
    "games['Date'] = pd.to_datetime(games['Date'])\n",
    "num_cols_basic = ['Tm','Opp','FG','FGA','FG%','3P','3PA','3P%','FT','FTA','FT%','ORB','TRB','AST','STL','BLK',\n",
    "                  'TOV','PF','blank','FG_O','FGA_O','FG%_O','3P_O','3PA_O','3P%_O','FT_O','FTA_O','FT%_O','RB_O',\n",
    "                  'TRB_O','AST_O','STL_O','BLK_O','TOV_O','PF_O']\n",
    "for i in num_cols_basic:\n",
    "    games[i] = pd.to_numeric(games[i])\n",
    "\n",
    "#create dictionary for results, which will be used for further calculations\n",
    "r_keys = ['L', 'W', 'L\\xa0(1 OT)', 'L\\xa0(2 OT)', 'W\\xa0(2 OT)','W\\xa0(1 OT)', 'W\\xa0(3 OT)', 'L\\xa0(3 OT)']\n",
    "r_wins = [0,1,0,0,1,1,1,0] #1 for win\n",
    "r_OT = [0,0,1,2,2,1,3,3] #overtimes played\n",
    "r_MP = [40,40,45,50,50,45,55,55] #minutes played\n",
    "\n",
    "results_dict = dict(zip(r_keys,zip(r_wins,r_OT,r_MP)))\n",
    "\n",
    "#adding columns to help with further data manipulation\n",
    "games['Wins'] = [results_dict[x][0] for x in games.Result]\n",
    "games['OT'] = [results_dict[x][1] for x in games.Result]\n",
    "games['MP']= [results_dict[x][2] for x in games.Result]\n",
    "games['PD'] = games['Tm']-games['Opp']"
   ]
  },
  {
   "cell_type": "markdown",
   "metadata": {},
   "source": [
    "## Advanced_games"
   ]
  },
  {
   "cell_type": "code",
   "execution_count": null,
   "metadata": {},
   "outputs": [],
   "source": [
    "advanced_gamelog = pickle.load(open('advanced_gamelog.pickle', \"rb\" ))"
   ]
  },
  {
   "cell_type": "code",
   "execution_count": null,
   "metadata": {},
   "outputs": [],
   "source": [
    "advanced_games = pd.DataFrame.from_dict(advanced_gamelog, orient = \"index\")"
   ]
  },
  {
   "cell_type": "code",
   "execution_count": null,
   "metadata": {},
   "outputs": [],
   "source": [
    "columns = ['url','Team','Date','Court','Opponent','Result','Tm','Opp','ORtg','DRtg','Pace','FTr','3PAr','TS%','TRB%',\n",
    "           'AST%','STL%','BLK%','blank1','OeFG%','OTOV%','ORB%','OFT/FGA','blank2','DeFG%','DTOV%','DRB%','DFT/FGA']\n",
    "advanced_games.columns=columns\n",
    "advanced_games.drop(columns=['blank1','blank2']);"
   ]
  },
  {
   "cell_type": "code",
   "execution_count": null,
   "metadata": {},
   "outputs": [],
   "source": [
    "advanced_games['Date'] = pd.to_datetime(advanced_games['Date'])\n",
    "num_cols_advanced = ['Tm','Opp','ORtg','DRtg','Pace','FTr','3PAr','TS%','TRB%',\n",
    "           'AST%','STL%','BLK%','blank1','OeFG%','OTOV%','ORB%','OFT/FGA','blank2','DeFG%','DTOV%','DRB%','DFT/FGA']\n",
    "for i in num_cols_advanced:\n",
    "    advanced_games[i] = pd.to_numeric(advanced_games[i])"
   ]
  },
  {
   "cell_type": "code",
   "execution_count": null,
   "metadata": {},
   "outputs": [],
   "source": [
    "#adding columns to help with further data manipulation\n",
    "advanced_games['Wins'] = [results_dict[x][0] for x in advanced_games.Result]\n",
    "advanced_games['OT'] = [results_dict[x][1] for x in advanced_games.Result]\n",
    "advanced_games['MP']= [results_dict[x][2] for x in advanced_games.Result]\n",
    "advanced_games['PD'] = advanced_games['Tm']-advanced_games['Opp']"
   ]
  },
  {
   "cell_type": "markdown",
   "metadata": {},
   "source": [
    "## Preparing clean data file"
   ]
  },
  {
   "cell_type": "code",
   "execution_count": null,
   "metadata": {},
   "outputs": [],
   "source": [
    "# Final DF\n",
    "df = pd.DataFrame(games['url'])\n",
    "df['Team'] = [team_lookup[x][0] for x in games['Team']]\n",
    "df['Date'] = games['Date']\n",
    "df['Opponent'] = games['Opponent']\n",
    "df['Court'] = games['Court']\n",
    "df['PD'] = games['PD']\n",
    "# GP = Games Played prior to this game\n",
    "df['GP'] = games.groupby('Team')['Team'].transform(lambda x: x.expanding().count()-1)\n",
    "# get prior average stats for each team before the game\n",
    "for i in ['Tm','Opp','FG','FGA','FG%','3P','3PA','3P%','FT','FTA','FT%','ORB','TRB','AST','STL','BLK',\n",
    "                  'TOV','PF','FG_O','FGA_O','FG%_O','3P_O','3PA_O','3P%_O','FT_O','FTA_O','FT%_O','RB_O',\n",
    "                  'TRB_O','AST_O','STL_O','BLK_O','TOV_O','PF_O','Wins','OT','MP']:\n",
    "    df[i] = games.groupby('Team')[i].transform(lambda x: x.expanding().sum()-x)/df['GP']"
   ]
  },
  {
   "cell_type": "code",
   "execution_count": null,
   "metadata": {},
   "outputs": [],
   "source": [
    "def data_manip(games,columns,team_lookup=team_lookup):\n",
    "    '''\n",
    "    this helps to clean data. update this here\n",
    "    games = gamelog information by team ______\n",
    "    columns = names of columns in the dataframe\n",
    "    team_lookup = to get the right name\n",
    "    \n",
    "    output: dataframe cleaned!\n",
    "\n",
    "    '''\n",
    "    df = pd.DataFrame(games['url'])\n",
    "    df['Team'] = [team_lookup[x][0] for x in games['Team']]\n",
    "    df['Date'] = games['Date']\n",
    "    df['Opponent'] = games['Opponent']\n",
    "    df['Court'] = games['Court']\n",
    "    df['PD'] = games['PD']\n",
    "    df['GP'] = games.groupby('Team')['Team'].transform(lambda x: x.expanding().count()-1)\n",
    "    for i in columns:\n",
    "        df[i] = games.groupby('Team')[i].transform(lambda x: x.expanding().sum()-x)/df['GP']\n",
    "    return df"
   ]
  },
  {
   "cell_type": "code",
   "execution_count": null,
   "metadata": {},
   "outputs": [],
   "source": [
    "adf = data_manip(advanced_games,num_cols_advanced)"
   ]
  }
 ],
 "metadata": {
  "kernelspec": {
   "display_name": "Python [conda env:metis] *",
   "language": "python",
   "name": "conda-env-metis-py"
  },
  "language_info": {
   "codemirror_mode": {
    "name": "ipython",
    "version": 3
   },
   "file_extension": ".py",
   "mimetype": "text/x-python",
   "name": "python",
   "nbconvert_exporter": "python",
   "pygments_lexer": "ipython3",
   "version": "3.8.3"
  }
 },
 "nbformat": 4,
 "nbformat_minor": 4
}
